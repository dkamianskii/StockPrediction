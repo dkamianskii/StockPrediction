{
 "cells": [
  {
   "cell_type": "code",
   "execution_count": 2,
   "id": "634183e1-f079-4bd9-a633-7c34970929c0",
   "metadata": {},
   "outputs": [],
   "source": [
    "import numpy as np\n",
    "import pandas as pd\n",
    "import lightgbm as lgb"
   ]
  },
  {
   "cell_type": "code",
   "execution_count": 1,
   "id": "27bc212f-6f12-47ea-adea-a2c214d2c032",
   "metadata": {},
   "outputs": [],
   "source": [
    "import os"
   ]
  },
  {
   "cell_type": "code",
   "execution_count": 5,
   "id": "021ce7d8-668b-44a6-b4e4-2f2c3d7de54b",
   "metadata": {},
   "outputs": [],
   "source": [
    "data_files = os.listdir(rf\"D:\\Work\\stocks\\stocks_processed\\USA\")"
   ]
  },
  {
   "cell_type": "code",
   "execution_count": 55,
   "id": "519587f1-8e65-4212-93b8-81748bde33f2",
   "metadata": {},
   "outputs": [],
   "source": [
    "x_trains = []\n",
    "y_trains = {\"1\": [], \"2\": [], \"3\": []}\n",
    "x_vals = {\"1\": [], \"2\": [], \"3\": []}\n",
    "y_vals = {\"1\": [], \"2\": [], \"3\": []}\n",
    "val_date = \"2021-01-01\"\n",
    "for data_file in data_files[:1]:\n",
    "    data = pd.read_csv(f\"D:\\\\Work\\\\stocks\\\\stocks_processed\\\\USA\\\\{data_file}\", index_col=\"Date\", parse_dates=['Date'])\n",
    "    target = pd.DataFrame()\n",
    "    for i in range(1, 10):\n",
    "        target[f\"t-{i}\"] = data[\"Close\"].shift(-i)\n",
    "    target = target[30:]\n",
    "    x = []\n",
    "    for i in range(data.shape[0] - 30):\n",
    "        x.append(data[i:i + 30].to_numpy().flatten())\n",
    "    x = np.array(x)\n",
    "    val_indx = data[:val_date].shape[0]\n",
    "    train_data = x[:val_indx]\n",
    "    x_trains.append(train_data)\n",
    "    val_data = x[val_indx:]\n",
    "    train_target = target[:val_indx]\n",
    "    val_target = target[val_indx:]\n",
    "    for i in range(3):\n",
    "        y_trains[f\"{i + 1}\"].append(train_target[[f\"t-{i*3 + 1}\", f\"t-{i*3 + 2}\", f\"t-{i*3 + 3}\"]])\n",
    "        y_vals[f\"{i + 1}\"].append(val_target[[f\"t-{i * 3 + 1}\", f\"t-{i * 3 + 2}\", f\"t-{i * 3 + 3}\"]][:-3*(i + 1)])\n",
    "        x_vals[f\"{i + 1}\"].append(val_data[:-3*(i + 1)])"
   ]
  },
  {
   "cell_type": "code",
   "execution_count": 58,
   "id": "f884aa93-af8f-4b21-aaf2-3d356590a4d5",
   "metadata": {},
   "outputs": [],
   "source": [
    "x_train = x_trains[0]"
   ]
  },
  {
   "cell_type": "code",
   "execution_count": 60,
   "id": "87cb225c-3e43-4ca4-a764-48460ba80bef",
   "metadata": {},
   "outputs": [],
   "source": [
    "x_train_df = pd.DataFrame(x_train)"
   ]
  },
  {
   "cell_type": "code",
   "execution_count": null,
   "id": "a3fb3ac0-5188-4b62-9376-39f41c7858db",
   "metadata": {},
   "outputs": [],
   "source": []
  },
  {
   "cell_type": "code",
   "execution_count": 57,
   "id": "06beaf33-b840-4c07-84d1-39206800bf32",
   "metadata": {},
   "outputs": [
    {
     "data": {
      "text/plain": [
       "(470, 1170)"
      ]
     },
     "execution_count": 57,
     "metadata": {},
     "output_type": "execute_result"
    }
   ],
   "source": [
    "x_vals[\"1\"][0].shape"
   ]
  },
  {
   "cell_type": "code",
   "execution_count": 13,
   "id": "22ac37f3-d1a0-47ab-a672-720e0c9dc954",
   "metadata": {},
   "outputs": [
    {
     "data": {
      "text/plain": [
       "(1170,)"
      ]
     },
     "execution_count": 13,
     "metadata": {},
     "output_type": "execute_result"
    }
   ],
   "source": [
    "data[2:32].to_numpy().flatten().shape"
   ]
  },
  {
   "cell_type": "code",
   "execution_count": null,
   "id": "7373126d-1ae5-47a5-8c3c-1a7a36566d93",
   "metadata": {},
   "outputs": [
    {
     "data": {
      "text/plain": [
       "(503, 39)"
      ]
     },
     "execution_count": 14,
     "metadata": {},
     "output_type": "execute_result"
    }
   ],
   "source": [
    "data[\"2021-01-01\":].shape"
   ]
  },
  {
   "cell_type": "code",
   "execution_count": 38,
   "id": "39cf0c60-a3e5-4095-b278-0b8ed19e3a91",
   "metadata": {},
   "outputs": [
    {
     "data": {
      "text/plain": [
       "(1170,)"
      ]
     },
     "execution_count": 38,
     "metadata": {},
     "output_type": "execute_result"
    }
   ],
   "source": [
    "data[0:30].to_numpy().flatten().shape"
   ]
  },
  {
   "cell_type": "code",
   "execution_count": 43,
   "id": "e53cc15d-d11c-4655-8bbd-6dc07d3927d0",
   "metadata": {},
   "outputs": [],
   "source": [
    "x = []\n",
    "for i in range(data.shape[0] - 30):\n",
    "    x.append(data[i:i + 30].to_numpy().flatten())"
   ]
  },
  {
   "cell_type": "code",
   "execution_count": 45,
   "id": "0332aa83-43bd-48c1-a16b-b0b158eae733",
   "metadata": {},
   "outputs": [],
   "source": [
    "x = np.array(x)"
   ]
  },
  {
   "cell_type": "code",
   "execution_count": 46,
   "id": "9dd3e214-e18f-45e7-a582-e1f339e8476b",
   "metadata": {},
   "outputs": [
    {
     "data": {
      "text/plain": [
       "(5558, 1170)"
      ]
     },
     "execution_count": 46,
     "metadata": {},
     "output_type": "execute_result"
    }
   ],
   "source": [
    "x.shape"
   ]
  },
  {
   "cell_type": "code",
   "execution_count": 2,
   "id": "808989aa-0402-40a7-ad58-eeacd8fd232f",
   "metadata": {},
   "outputs": [],
   "source": [
    "X = np.random.rand(100, 10)\n",
    "y = np.random.rand(100, 3)\n",
    "y[X[:,3] > 0.5] += 3\n",
    "y[X[:,6] > 0.8] -= 10\n",
    "y[X[:,1] < 0.25] += 5"
   ]
  },
  {
   "cell_type": "code",
   "execution_count": 3,
   "id": "7d761551-8ebb-4df3-9da3-605ec21e6d6d",
   "metadata": {},
   "outputs": [],
   "source": [
    "m = xg.XGBRegressor(n_estimators=4, max_depth=2)"
   ]
  },
  {
   "cell_type": "code",
   "execution_count": 4,
   "id": "5a5bd049-9ffb-4077-b562-2fd9fa28b25b",
   "metadata": {},
   "outputs": [
    {
     "data": {
      "text/plain": [
       "XGBRegressor(base_score=None, booster=None, callbacks=None,\n",
       "             colsample_bylevel=None, colsample_bynode=None,\n",
       "             colsample_bytree=None, early_stopping_rounds=None,\n",
       "             enable_categorical=False, eval_metric=None, feature_types=None,\n",
       "             gamma=None, gpu_id=None, grow_policy=None, importance_type=None,\n",
       "             interaction_constraints=None, learning_rate=None, max_bin=None,\n",
       "             max_cat_threshold=None, max_cat_to_onehot=None,\n",
       "             max_delta_step=None, max_depth=2, max_leaves=None,\n",
       "             min_child_weight=None, missing=nan, monotone_constraints=None,\n",
       "             n_estimators=4, n_jobs=None, num_parallel_tree=None,\n",
       "             predictor=None, random_state=None, ...)"
      ]
     },
     "execution_count": 4,
     "metadata": {},
     "output_type": "execute_result"
    }
   ],
   "source": [
    "m.fit(X, y)"
   ]
  },
  {
   "cell_type": "code",
   "execution_count": 7,
   "id": "8eae53af-da65-4a29-bd9e-1913d5862dbb",
   "metadata": {},
   "outputs": [],
   "source": [
    "y_mean = y.mean(axis=0)"
   ]
  },
  {
   "cell_type": "code",
   "execution_count": 8,
   "id": "ebceb1a5-0c8b-4213-9b0e-4878bd6e9a26",
   "metadata": {},
   "outputs": [
    {
     "data": {
      "text/plain": [
       "array([1.2603546 , 1.27683579, 1.25711134])"
      ]
     },
     "execution_count": 8,
     "metadata": {},
     "output_type": "execute_result"
    }
   ],
   "source": [
    "y_mean"
   ]
  },
  {
   "cell_type": "code",
   "execution_count": 9,
   "id": "941549ff-1305-48fe-a501-2ab0927f2873",
   "metadata": {},
   "outputs": [
    {
     "data": {
      "text/plain": [
       "array([2311.55261625, 2392.86392452, 2308.93990908])"
      ]
     },
     "execution_count": 9,
     "metadata": {},
     "output_type": "execute_result"
    }
   ],
   "source": [
    "((y - y_mean) ** 2).sum(axis=0)"
   ]
  },
  {
   "cell_type": "code",
   "execution_count": 10,
   "id": "faa02d98-85bf-47b3-bd50-3dd479f793e1",
   "metadata": {},
   "outputs": [],
   "source": [
    "p = m.predict(X)"
   ]
  },
  {
   "cell_type": "code",
   "execution_count": 12,
   "id": "b9c87432-31d6-44eb-a7c1-b4d7cc7358c6",
   "metadata": {},
   "outputs": [
    {
     "data": {
      "text/plain": [
       "array([287.91019797, 297.98594799, 289.56598474])"
      ]
     },
     "execution_count": 12,
     "metadata": {},
     "output_type": "execute_result"
    }
   ],
   "source": [
    "((y - p) ** 2).sum(axis=0)"
   ]
  },
  {
   "cell_type": "code",
   "execution_count": null,
   "id": "8194ebf2-2d56-4434-9cdc-51e8ac427919",
   "metadata": {},
   "outputs": [],
   "source": []
  }
 ],
 "metadata": {
  "kernelspec": {
   "display_name": "Python 3 (ipykernel)",
   "language": "python",
   "name": "python3"
  },
  "language_info": {
   "codemirror_mode": {
    "name": "ipython",
    "version": 3
   },
   "file_extension": ".py",
   "mimetype": "text/x-python",
   "name": "python",
   "nbconvert_exporter": "python",
   "pygments_lexer": "ipython3",
   "version": "3.9.12"
  }
 },
 "nbformat": 4,
 "nbformat_minor": 5
}
